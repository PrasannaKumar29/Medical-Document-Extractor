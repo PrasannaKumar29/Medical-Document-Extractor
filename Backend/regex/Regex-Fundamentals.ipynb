{
 "cells": [
  {
   "cell_type": "code",
   "execution_count": 16,
   "id": "714736dd",
   "metadata": {},
   "outputs": [],
   "source": [
    "import re"
   ]
  },
  {
   "cell_type": "code",
   "execution_count": 17,
   "id": "e1f0cc73",
   "metadata": {},
   "outputs": [],
   "source": [
    "text=\"Patient's phone number is 9894756086. Bill amount is 120$\""
   ]
  },
  {
   "cell_type": "code",
   "execution_count": 18,
   "id": "56739e1c",
   "metadata": {},
   "outputs": [],
   "source": [
    "pattern='\\d+'"
   ]
  },
  {
   "cell_type": "code",
   "execution_count": 19,
   "id": "5b5e32aa",
   "metadata": {},
   "outputs": [
    {
     "data": {
      "text/plain": [
       "['9894756086', '120']"
      ]
     },
     "execution_count": 19,
     "metadata": {},
     "output_type": "execute_result"
    }
   ],
   "source": [
    "match=re.findall(pattern,text)\n",
    "match"
   ]
  },
  {
   "cell_type": "code",
   "execution_count": 20,
   "id": "fdf10866",
   "metadata": {},
   "outputs": [
    {
     "data": {
      "text/plain": [
       "['9894756086']"
      ]
     },
     "execution_count": 20,
     "metadata": {},
     "output_type": "execute_result"
    }
   ],
   "source": [
    "pattern1='\\d{10}'\n",
    "match1=re.findall(pattern1,text)\n",
    "match1"
   ]
  },
  {
   "cell_type": "markdown",
   "id": "e93853ea",
   "metadata": {},
   "source": [
    "##### Extracting phone number from a slightly difficult text:"
   ]
  },
  {
   "cell_type": "code",
   "execution_count": 21,
   "id": "ba7d6b62",
   "metadata": {},
   "outputs": [],
   "source": [
    "text=\"Patient's phone number is 9894756086. Doctor's phone number is (732)-111-9897. Bill amount is 120$\""
   ]
  },
  {
   "cell_type": "markdown",
   "id": "f6af188b",
   "metadata": {},
   "source": [
    "For experimenting with the expressions, refer www.regex101.com"
   ]
  },
  {
   "cell_type": "code",
   "execution_count": 22,
   "id": "6710edb6",
   "metadata": {},
   "outputs": [
    {
     "data": {
      "text/plain": [
       "['9894756086', '(732)-111-9897']"
      ]
     },
     "execution_count": 22,
     "metadata": {},
     "output_type": "execute_result"
    }
   ],
   "source": [
    "pattern='\\(\\d{3}\\)-\\d{3}-\\d{4}|\\d{10}'\n",
    "match=re.findall(pattern,text)\n",
    "match"
   ]
  },
  {
   "cell_type": "code",
   "execution_count": 23,
   "id": "834ba88d",
   "metadata": {},
   "outputs": [
    {
     "data": {
      "text/plain": [
       "['9894756086', '120$']"
      ]
     },
     "execution_count": 23,
     "metadata": {},
     "output_type": "execute_result"
    }
   ],
   "source": [
    "text=\"Patient's phone number is 9894756086. Doctor's phone number is (732)-111-9897. Bill amount is 120$\"\n",
    "pattern='\\d{10}|\\d+\\$'\n",
    "match=re.findall(pattern,text)\n",
    "match"
   ]
  },
  {
   "cell_type": "markdown",
   "id": "d45c8b0c",
   "metadata": {},
   "source": [
    "Suppose, if you dont want the dollar symbol to be actually extracted but need to segregate only numbers before dollar symbol, Then,"
   ]
  },
  {
   "cell_type": "code",
   "execution_count": 26,
   "id": "935899ec",
   "metadata": {},
   "outputs": [
    {
     "data": {
      "text/plain": [
       "<re.Match object; span=(26, 56), match='9894756086.Bill amount is 120$'>"
      ]
     },
     "execution_count": 26,
     "metadata": {},
     "output_type": "execute_result"
    }
   ],
   "source": [
    "text=\"Patient's phone number is 9894756086.Bill amount is 120$\"\n",
    "pattern='(\\d{10})\\D+(\\d+)\\$' #brackets between \\d+ and \\d{10}. whatever enclosed inside ( ) are considered as groups\n",
    "match=re.search(pattern,text)\n",
    "match"
   ]
  },
  {
   "cell_type": "code",
   "execution_count": 28,
   "id": "1248734b",
   "metadata": {},
   "outputs": [],
   "source": [
    "phone,bill=match.groups()"
   ]
  },
  {
   "cell_type": "code",
   "execution_count": 29,
   "id": "45f29a7a",
   "metadata": {},
   "outputs": [
    {
     "data": {
      "text/plain": [
       "'9894756086'"
      ]
     },
     "execution_count": 29,
     "metadata": {},
     "output_type": "execute_result"
    }
   ],
   "source": [
    "phone"
   ]
  },
  {
   "cell_type": "code",
   "execution_count": 30,
   "id": "66a11378",
   "metadata": {},
   "outputs": [
    {
     "data": {
      "text/plain": [
       "'120'"
      ]
     },
     "execution_count": 30,
     "metadata": {},
     "output_type": "execute_result"
    }
   ],
   "source": [
    "bill"
   ]
  },
  {
   "cell_type": "code",
   "execution_count": 38,
   "id": "76cef460",
   "metadata": {},
   "outputs": [],
   "source": [
    "main_text='''Name: Marta Sharapova Date: 5/11/2022\n",
    "\n",
    "Address: 9 tennis court, new Russia, DC\n",
    "\n",
    "Prednisone 20 mg\n",
    "Lialda 2.4 gram\n",
    "\n",
    "Directions:\n",
    "\n",
    "Prednisone, Taper 5 mg every 3 days,\n",
    "Finish in 2.5 weeks a\n",
    "Lialda - take 2 pill everyday for 1 month\n",
    "\n",
    "Refill: 2 times\n",
    "'''"
   ]
  },
  {
   "cell_type": "code",
   "execution_count": 35,
   "id": "f0b55606",
   "metadata": {},
   "outputs": [
    {
     "data": {
      "text/plain": [
       "[' Marta Sharapova ']"
      ]
     },
     "execution_count": 35,
     "metadata": {},
     "output_type": "execute_result"
    }
   ],
   "source": [
    "name_filter='Name:(.*)Date:'\n",
    "name=re.findall(name_filter,main_text)\n",
    "name"
   ]
  },
  {
   "cell_type": "code",
   "execution_count": 36,
   "id": "550ae186",
   "metadata": {},
   "outputs": [
    {
     "data": {
      "text/plain": [
       "'Marta Sharapova'"
      ]
     },
     "execution_count": 36,
     "metadata": {},
     "output_type": "execute_result"
    }
   ],
   "source": [
    "#to delete trailing and leading spaces, we do\n",
    "name[0].strip()"
   ]
  },
  {
   "cell_type": "code",
   "execution_count": 42,
   "id": "1ebe3e31",
   "metadata": {},
   "outputs": [
    {
     "data": {
      "text/plain": [
       "'9 tennis court, new Russia, DC'"
      ]
     },
     "execution_count": 42,
     "metadata": {},
     "output_type": "execute_result"
    }
   ],
   "source": [
    "address_filter='Address:(.*)\\n'\n",
    "address=re.findall(address_filter,main_text)\n",
    "address[0].strip()"
   ]
  },
  {
   "cell_type": "code",
   "execution_count": 43,
   "id": "e38daf43",
   "metadata": {},
   "outputs": [
    {
     "name": "stdout",
     "output_type": "stream",
     "text": [
      "Prednisone 20 mg\n",
      "Lialda 2.4 gram\n"
     ]
    }
   ],
   "source": [
    "medicine_filter='Address:[^\\n]*\\n(.*)Directions'\n",
    "medicines=re.findall(medicine_filter,main_text,flags=re.DOTALL)\n",
    "print(medicines[0].strip())"
   ]
  },
  {
   "cell_type": "code",
   "execution_count": 45,
   "id": "e9b2e32d",
   "metadata": {},
   "outputs": [
    {
     "name": "stdout",
     "output_type": "stream",
     "text": [
      "Prednisone, Taper 5 mg every 3 days,\n",
      "Finish in 2.5 weeks a\n",
      "Lialda - take 2 pill everyday for 1 month\n"
     ]
    }
   ],
   "source": [
    "directions_filter='Directions:[^\\n]*\\n(.*)Refill'\n",
    "directions=re.findall(directions_filter,main_text,flags=re.DOTALL)\n",
    "print(directions[0].strip())"
   ]
  },
  {
   "cell_type": "code",
   "execution_count": 49,
   "id": "fbc26d2e",
   "metadata": {},
   "outputs": [
    {
     "data": {
      "text/plain": [
       "'2'"
      ]
     },
     "execution_count": 49,
     "metadata": {},
     "output_type": "execute_result"
    }
   ],
   "source": [
    "refill_times='Refill:(.*)times'\n",
    "refill=re.findall(refill_times,main_text,flags=re.DOTALL)\n",
    "refill[0].strip()"
   ]
  },
  {
   "cell_type": "code",
   "execution_count": null,
   "id": "4b71050d",
   "metadata": {},
   "outputs": [],
   "source": []
  }
 ],
 "metadata": {
  "kernelspec": {
   "display_name": "Python 3 (ipykernel)",
   "language": "python",
   "name": "python3"
  },
  "language_info": {
   "codemirror_mode": {
    "name": "ipython",
    "version": 3
   },
   "file_extension": ".py",
   "mimetype": "text/x-python",
   "name": "python",
   "nbconvert_exporter": "python",
   "pygments_lexer": "ipython3",
   "version": "3.9.6"
  }
 },
 "nbformat": 4,
 "nbformat_minor": 5
}
