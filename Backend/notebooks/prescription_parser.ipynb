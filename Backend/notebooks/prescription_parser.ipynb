{
 "cells": [
  {
   "cell_type": "code",
   "execution_count": 10,
   "id": "a4f6e3d7",
   "metadata": {},
   "outputs": [],
   "source": [
    "from pdf2image import convert_from_path"
   ]
  },
  {
   "cell_type": "code",
   "execution_count": 11,
   "id": "dbdefbbd",
   "metadata": {},
   "outputs": [],
   "source": [
    "pages= convert_from_path(r'C:\\Users\\Prasanna\\Documents\\IIT Hyderabad\\Python-Proj\\Backend\\resources\\prescription\\pre_2.pdf',poppler_path=r'C:\\poppler-22.04.0\\Library\\bin')"
   ]
  },
  {
   "cell_type": "code",
   "execution_count": 12,
   "id": "7b8ca5c7",
   "metadata": {},
   "outputs": [
    {
     "data": {
      "text/plain": [
       "[<PIL.PpmImagePlugin.PpmImageFile image mode=RGB size=1700x2200 at 0x27EACC7B100>]"
      ]
     },
     "execution_count": 12,
     "metadata": {},
     "output_type": "execute_result"
    }
   ],
   "source": [
    "pages #pages is an array of PIL images"
   ]
  },
  {
   "cell_type": "code",
   "execution_count": 13,
   "id": "23f63fc1",
   "metadata": {},
   "outputs": [],
   "source": [
    "import pytesseract"
   ]
  },
  {
   "cell_type": "code",
   "execution_count": 14,
   "id": "d9db2922",
   "metadata": {},
   "outputs": [
    {
     "name": "stdout",
     "output_type": "stream",
     "text": [
      "Refill: 3 times\n",
      "\n",
      "\n"
     ]
    }
   ],
   "source": [
    "pytesseract.pytesseract.tesseract_cmd= r'C:\\Program Files\\Tesseract-OCR\\tesseract.exe'\n",
    "text=pytesseract.image_to_string(pages[0],lang='eng')\n",
    "print(text)"
   ]
  },
  {
   "cell_type": "markdown",
   "id": "57eaa6ce",
   "metadata": {},
   "source": [
    "Hence, a lot of data is lost if we directly apply the tesseract library on the image"
   ]
  },
  {
   "cell_type": "code",
   "execution_count": 15,
   "id": "2d86e616",
   "metadata": {},
   "outputs": [],
   "source": [
    "#A overall generalized image preprocessing technique\n",
    "import numpy as np\n",
    "import cv2\n",
    "from PIL import Image\n",
    "\n",
    "\n",
    "def preprocess_image(img):\n",
    "    gray_image= cv2.cvtColor(np.array(img),cv2.COLOR_BGR2GRAY) #converting color pic to grayscale\n",
    "    resized=cv2.resize(gray_image,None,fx=1.5,fy=1.5,interpolation=cv2.INTER_LINEAR) #arguments--> (input size, output size, fx=x axis rescale, fy= y axis rescale, interpolation= fill the empty pixels as a result of interpolation)\n",
    "    processed_img=cv2.adaptiveThreshold(resized,255,cv2.ADAPTIVE_THRESH_GAUSSIAN_C,cv2.THRESH_BINARY,61,11) #apply adaptive thresholding for resized image\n",
    "    return processed_img"
   ]
  },
  {
   "cell_type": "code",
   "execution_count": 16,
   "id": "44be0f7d",
   "metadata": {},
   "outputs": [],
   "source": [
    "img=preprocess_image(pages[0])\n",
    "Image.fromarray(img).show()"
   ]
  },
  {
   "cell_type": "code",
   "execution_count": 17,
   "id": "0eb77ba3",
   "metadata": {},
   "outputs": [
    {
     "name": "stdout",
     "output_type": "stream",
     "text": [
      "Dr John >mith, M.D\n",
      "\n",
      "2 Non-Important street,\n",
      "New York, Phone (900)-323- ~2222\n",
      "\n",
      "Name:  Virat Kohli Date: 2/05/2022\n",
      "\n",
      "Address: 2 cricket blvd, New Delhi\n",
      "\n",
      "| Omeprazole 40 mg\n",
      "\n",
      "Directions: Use two tablets daily for three months\n",
      "\n",
      "Refill: 3 times\n",
      "\n"
     ]
    }
   ],
   "source": [
    "text1=pytesseract.image_to_string(img,lang='eng')\n",
    "print(text1)"
   ]
  },
  {
   "cell_type": "code",
   "execution_count": null,
   "id": "e6c049be",
   "metadata": {},
   "outputs": [],
   "source": []
  },
  {
   "cell_type": "code",
   "execution_count": 14,
   "id": "239f74e2",
   "metadata": {},
   "outputs": [],
   "source": [
    "pages1= convert_from_path(r'docs\\prescription\\pre_2.pdf',poppler_path=r'C:\\poppler-22.04.0\\Library\\bin')"
   ]
  },
  {
   "cell_type": "code",
   "execution_count": 17,
   "id": "30cff254",
   "metadata": {},
   "outputs": [],
   "source": [
    "pages1[0].show()"
   ]
  },
  {
   "cell_type": "code",
   "execution_count": 18,
   "id": "515fbdd6",
   "metadata": {},
   "outputs": [],
   "source": [
    "img2=preprocess_image(pages1[0])\n",
    "Image.fromarray(img2).show()"
   ]
  },
  {
   "cell_type": "code",
   "execution_count": 19,
   "id": "f9934924",
   "metadata": {},
   "outputs": [
    {
     "name": "stdout",
     "output_type": "stream",
     "text": [
      "Dr John >mith, M.D\n",
      "\n",
      "2 Non-Important street,\n",
      "New York, Phone (900)-323- ~2222\n",
      "\n",
      "Name:  Virat Kohli Date: 2/05/2022\n",
      "\n",
      "Address: 2 cricket blvd, New Delhi\n",
      "\n",
      "| Omeprazole 40 mg\n",
      "\n",
      "Directions: Use two tablets daily for three months\n",
      "\n",
      "Refill: 3 times\n",
      "\n"
     ]
    }
   ],
   "source": [
    "text2=pytesseract.image_to_string(img2,lang='eng')\n",
    "print(text2)"
   ]
  },
  {
   "cell_type": "markdown",
   "id": "c02f2985",
   "metadata": {},
   "source": [
    "Without, preprocessing:"
   ]
  },
  {
   "cell_type": "code",
   "execution_count": 20,
   "id": "28d63809",
   "metadata": {
    "scrolled": true
   },
   "outputs": [
    {
     "name": "stdout",
     "output_type": "stream",
     "text": [
      "Refill: 3 times\n",
      "\n",
      "\n"
     ]
    }
   ],
   "source": [
    "text2=pytesseract.image_to_string(pages1[0],lang='eng')\n",
    "print(text2)"
   ]
  },
  {
   "cell_type": "code",
   "execution_count": 1,
   "id": "90c4179f",
   "metadata": {},
   "outputs": [],
   "source": [
    "main_text='''Name: Marta Sharapova Date: 5/11/2022\n",
    "\n",
    "Address: 9 tennis court, new Russia, DC\n",
    "\n",
    "K\n",
    "\n",
    "Prednisone 20 mg\n",
    "Lialda 2.4 gram\n",
    "\n",
    "Directions:\n",
    "\n",
    "Prednisone, Taper 5 mg every 3 days,\n",
    "Finish in 2.5 weeks a\n",
    "Lialda - take 2 pill everyday for 1 month\n",
    "\n",
    "Refill: 2 times\n",
    "'''"
   ]
  },
  {
   "cell_type": "code",
   "execution_count": null,
   "id": "de5a7605",
   "metadata": {},
   "outputs": [],
   "source": []
  }
 ],
 "metadata": {
  "kernelspec": {
   "display_name": "Python 3 (ipykernel)",
   "language": "python",
   "name": "python3"
  },
  "language_info": {
   "codemirror_mode": {
    "name": "ipython",
    "version": 3
   },
   "file_extension": ".py",
   "mimetype": "text/x-python",
   "name": "python",
   "nbconvert_exporter": "python",
   "pygments_lexer": "ipython3",
   "version": "3.9.6"
  }
 },
 "nbformat": 4,
 "nbformat_minor": 5
}
