{
 "cells": [
  {
   "cell_type": "code",
   "execution_count": 1,
   "id": "dbabbee9",
   "metadata": {},
   "outputs": [],
   "source": [
    "import cv2\n",
    "from PIL import Image"
   ]
  },
  {
   "cell_type": "code",
   "execution_count": 2,
   "id": "0e315be2",
   "metadata": {
    "scrolled": true
   },
   "outputs": [
    {
     "data": {
      "text/plain": [
       "array([[206, 206, 206, ..., 185, 185, 185],\n",
       "       [206, 206, 206, ..., 185, 185, 185],\n",
       "       [206, 206, 206, ..., 186, 185, 185],\n",
       "       ...,\n",
       "       [207, 207, 207, ..., 191, 190, 190],\n",
       "       [207, 207, 207, ..., 191, 190, 190],\n",
       "       [207, 207, 207, ..., 191, 191, 190]], dtype=uint8)"
      ]
     },
     "execution_count": 2,
     "metadata": {},
     "output_type": "execute_result"
    }
   ],
   "source": [
    "img=cv2.imread('clear_image.jpg',flags=cv2.IMREAD_GRAYSCALE)\n",
    "img"
   ]
  },
  {
   "cell_type": "code",
   "execution_count": 3,
   "id": "ddf2cdd8",
   "metadata": {},
   "outputs": [
    {
     "data": {
      "text/plain": [
       "(559, 792)"
      ]
     },
     "execution_count": 3,
     "metadata": {},
     "output_type": "execute_result"
    }
   ],
   "source": [
    "img.shape"
   ]
  },
  {
   "cell_type": "code",
   "execution_count": 4,
   "id": "29876ae6",
   "metadata": {},
   "outputs": [],
   "source": [
    "#visualizing arr as image using Image function of Pillow\n",
    "Image.fromarray(img).show()"
   ]
  },
  {
   "cell_type": "code",
   "execution_count": 5,
   "id": "0f19b416",
   "metadata": {},
   "outputs": [],
   "source": [
    "#Simple thresholding using OpenCV\n",
    "thresh, modified_img=cv2.threshold(img,150,255,cv2.THRESH_BINARY) #150 is the threshold here.This line will return a tuple with first value as threshold and second value as modified array\n",
    "Image.fromarray(modified_img).show()"
   ]
  },
  {
   "cell_type": "code",
   "execution_count": 6,
   "id": "198098aa",
   "metadata": {},
   "outputs": [
    {
     "data": {
      "text/plain": [
       "array([[255, 255, 255, ..., 255, 255, 255],\n",
       "       [255, 255, 255, ..., 255, 255, 255],\n",
       "       [255, 255, 255, ..., 255, 255, 255],\n",
       "       ...,\n",
       "       [255, 255, 255, ..., 255, 255, 255],\n",
       "       [255, 255, 255, ..., 255, 255, 255],\n",
       "       [255, 255, 255, ..., 255, 255, 255]], dtype=uint8)"
      ]
     },
     "execution_count": 6,
     "metadata": {},
     "output_type": "execute_result"
    }
   ],
   "source": [
    "modified_img"
   ]
  },
  {
   "cell_type": "markdown",
   "id": "9e042709",
   "metadata": {},
   "source": [
    "Suppose, if we apply simple thresholding to dark image, the result is as below"
   ]
  },
  {
   "cell_type": "code",
   "execution_count": 7,
   "id": "a40e0f07",
   "metadata": {},
   "outputs": [],
   "source": [
    "img=cv2.imread('dark_image.jpg',flags=cv2.IMREAD_GRAYSCALE)\n",
    "thresh, modified_img=cv2.threshold(img,150,255,cv2.THRESH_BINARY) #150 is the threshold here.This line will return a tuple with first value as threshold and second value as modified array\n",
    "Image.fromarray(modified_img).show()"
   ]
  },
  {
   "cell_type": "markdown",
   "id": "6ad684fd",
   "metadata": {},
   "source": [
    "hence, simple thresholding gives black patch at the left bottom for the above 'dark_image.jpg'"
   ]
  },
  {
   "cell_type": "markdown",
   "id": "b09614ba",
   "metadata": {},
   "source": [
    "### We are going to do Adaptive thresholding\n",
    "\n",
    "We are going to do 'Gaussian_C' adaptive threshold to come up with a different threshold for different regions of the image"
   ]
  },
  {
   "cell_type": "code",
   "execution_count": 8,
   "id": "6ae56762",
   "metadata": {},
   "outputs": [],
   "source": [
    "new_img=cv2.adaptiveThreshold(img,255,cv2.ADAPTIVE_THRESH_GAUSSIAN_C,cv2.THRESH_BINARY,61,11) #61 and 11 are numbers which we come up by trial and error\n",
    "Image.fromarray(new_img).show()"
   ]
  },
  {
   "cell_type": "markdown",
   "id": "03f56ac7",
   "metadata": {},
   "source": [
    "Link for Adaptive thresholding docs:\n",
    "https://www.tutorialspoint.com/opencv/opencv_adaptive_threshold.htm#:~:text=In%20simple%20thresholding%2C%20the%20threshold,threshold%20values%20for%20different%20regions."
   ]
  },
  {
   "cell_type": "code",
   "execution_count": 9,
   "id": "94060780",
   "metadata": {},
   "outputs": [],
   "source": [
    "#A overall generalized image preprocessing technique\n",
    "import numpy as np\n",
    "\n",
    "def preprocess_image(img):\n",
    "    gray_image= cv2.cvtColor(np.array(img),cv2.COLOR_BGR2GRAY) #converting color pic to grayscale\n",
    "    resized=cv2.resize(gray,None,fx=1.5,fy=1.5,interpolation=cv2.INTER_LINEAR) #arguments--> (input size, output size, fx=x axis rescale, fy= y axis rescale, interpolation= fill the empty pixels as a result of interpolation)\n",
    "    processed_img=cv2.adaptiveThreshold(resized,255,cv2.ADAPTIVE_THRESH_GAUSSIAN_C,cv2.THRESH_BINARY,61,11) #apply adaptive thresholding for resized image\n",
    "    return processed_img"
   ]
  },
  {
   "cell_type": "code",
   "execution_count": null,
   "id": "50a0d9d7",
   "metadata": {},
   "outputs": [],
   "source": []
  }
 ],
 "metadata": {
  "kernelspec": {
   "display_name": "Python 3 (ipykernel)",
   "language": "python",
   "name": "python3"
  },
  "language_info": {
   "codemirror_mode": {
    "name": "ipython",
    "version": 3
   },
   "file_extension": ".py",
   "mimetype": "text/x-python",
   "name": "python",
   "nbconvert_exporter": "python",
   "pygments_lexer": "ipython3",
   "version": "3.9.6"
  }
 },
 "nbformat": 4,
 "nbformat_minor": 5
}
